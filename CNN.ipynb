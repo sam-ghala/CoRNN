{
 "cells": [
  {
   "cell_type": "code",
   "execution_count": 1,
   "metadata": {},
   "outputs": [],
   "source": [
    "import torch\n",
    "import torch.nn as nn\n",
    "import torch.nn.functional as F\n",
    "import torch.optim as optim\n",
    "from torch.autograd import Variable\n",
    "import torchvision\n",
    "from torch.utils.data import Dataset, DataLoader\n",
    "import pandas as pd\n",
    "import numpy as np\n",
    "from matplotlib import pyplot as plt"
   ]
  },
  {
   "cell_type": "code",
   "execution_count": 2,
   "metadata": {},
   "outputs": [
    {
     "name": "stdout",
     "output_type": "stream",
     "text": [
      "(2977, 4)\n"
     ]
    },
    {
     "data": {
      "text/html": [
       "<div>\n",
       "<style scoped>\n",
       "    .dataframe tbody tr th:only-of-type {\n",
       "        vertical-align: middle;\n",
       "    }\n",
       "\n",
       "    .dataframe tbody tr th {\n",
       "        vertical-align: top;\n",
       "    }\n",
       "\n",
       "    .dataframe thead th {\n",
       "        text-align: right;\n",
       "    }\n",
       "</style>\n",
       "<table border=\"1\" class=\"dataframe\">\n",
       "  <thead>\n",
       "    <tr style=\"text-align: right;\">\n",
       "      <th></th>\n",
       "      <th>Field_ID</th>\n",
       "      <th>Year</th>\n",
       "      <th>Quality</th>\n",
       "      <th>Yield</th>\n",
       "    </tr>\n",
       "  </thead>\n",
       "  <tbody>\n",
       "    <tr>\n",
       "      <td>0</td>\n",
       "      <td>MH2O0YH</td>\n",
       "      <td>2019</td>\n",
       "      <td>3</td>\n",
       "      <td>3.686</td>\n",
       "    </tr>\n",
       "    <tr>\n",
       "      <td>1</td>\n",
       "      <td>O9TURWL</td>\n",
       "      <td>2019</td>\n",
       "      <td>2</td>\n",
       "      <td>5.657</td>\n",
       "    </tr>\n",
       "    <tr>\n",
       "      <td>2</td>\n",
       "      <td>35AFSDD</td>\n",
       "      <td>2019</td>\n",
       "      <td>3</td>\n",
       "      <td>3.082</td>\n",
       "    </tr>\n",
       "    <tr>\n",
       "      <td>3</td>\n",
       "      <td>PM05EG9</td>\n",
       "      <td>2019</td>\n",
       "      <td>2</td>\n",
       "      <td>2.707</td>\n",
       "    </tr>\n",
       "    <tr>\n",
       "      <td>4</td>\n",
       "      <td>V7PZBCG</td>\n",
       "      <td>2019</td>\n",
       "      <td>2</td>\n",
       "      <td>2.679</td>\n",
       "    </tr>\n",
       "  </tbody>\n",
       "</table>\n",
       "</div>"
      ],
      "text/plain": [
       "  Field_ID  Year  Quality  Yield\n",
       "0  MH2O0YH  2019        3  3.686\n",
       "1  O9TURWL  2019        2  5.657\n",
       "2  35AFSDD  2019        3  3.082\n",
       "3  PM05EG9  2019        2  2.707\n",
       "4  V7PZBCG  2019        2  2.679"
      ]
     },
     "execution_count": 2,
     "metadata": {},
     "output_type": "execute_result"
    }
   ],
   "source": [
    "train = pd.read_csv('Train.csv')\n",
    "print(train.shape)\n",
    "train.head()"
   ]
  },
  {
   "cell_type": "code",
   "execution_count": 3,
   "metadata": {},
   "outputs": [
    {
     "data": {
      "text/plain": [
       "3    1321\n",
       "2    1231\n",
       "1     425\n",
       "Name: Quality, dtype: int64"
      ]
     },
     "execution_count": 3,
     "metadata": {},
     "output_type": "execute_result"
    }
   ],
   "source": [
    "train['Quality'].value_counts()"
   ]
  },
  {
   "cell_type": "code",
   "execution_count": 4,
   "metadata": {},
   "outputs": [
    {
     "data": {
      "text/plain": [
       "3    1321\n",
       "2    1231\n",
       "Name: Quality, dtype: int64"
      ]
     },
     "execution_count": 4,
     "metadata": {},
     "output_type": "execute_result"
    }
   ],
   "source": [
    "train = train[train.Quality > 1]\n",
    "train['Quality'].value_counts()"
   ]
  },
  {
   "cell_type": "code",
   "execution_count": 5,
   "metadata": {},
   "outputs": [],
   "source": [
    "class CNN(nn.Module):\n",
    "    def __init__(self):\n",
    "        super(CNN,self).__init__()\n",
    "        self.conv1 = nn.Sequential(\n",
    "            nn.Conv2d(                  \n",
    "                in_channels=168,  #input size: (360,9,9)\n",
    "                out_channels=16,#size after conv: (16,9,9)        \n",
    "                kernel_size=3,\n",
    "                stride=1,       \n",
    "                padding=1\n",
    "            ),\n",
    "            nn.BatchNorm2d(16),\n",
    "            nn.ReLU(),\n",
    "            nn.MaxPool2d(kernel_size=3) \n",
    "        )\n",
    "        self.conv2 = nn.Sequential(\n",
    "            nn.Conv2d(\n",
    "                in_channels = 16,#(16,3,3) \n",
    "                out_channels = 32,#(32,3,3)\n",
    "                kernel_size = 3,\n",
    "                stride = 1,\n",
    "                padding = 1\n",
    "            ),\n",
    "            nn.BatchNorm2d(32),\n",
    "            nn.ReLU(),\n",
    "            nn.MaxPool2d(kernel_size = 3)#(32,1,1)\n",
    "        )\n",
    "       \n",
    "        self.drop_out = nn.Dropout()\n",
    "        \n",
    "        self.out = nn.Linear(1*1*32,100)\n",
    "        self.fc2 = nn.Linear(100,1)\n",
    "        \n",
    "    \n",
    "    def forward(self,x):\n",
    "        x = self.conv1(x)                     \n",
    "        x = self.conv2(x)   \n",
    "        x = x.view(x.size(0),-1) \n",
    "        out = self.drop_out(x)\n",
    "        out = self.out(x) \n",
    "        out = self.fc2(out) \n",
    "        return out"
   ]
  },
  {
   "cell_type": "code",
   "execution_count": 6,
   "metadata": {},
   "outputs": [
    {
     "name": "stdout",
     "output_type": "stream",
     "text": [
      "CNN(\n",
      "  (conv1): Sequential(\n",
      "    (0): Conv2d(168, 16, kernel_size=(3, 3), stride=(1, 1), padding=(1, 1))\n",
      "    (1): BatchNorm2d(16, eps=1e-05, momentum=0.1, affine=True, track_running_stats=True)\n",
      "    (2): ReLU()\n",
      "    (3): MaxPool2d(kernel_size=3, stride=3, padding=0, dilation=1, ceil_mode=False)\n",
      "  )\n",
      "  (conv2): Sequential(\n",
      "    (0): Conv2d(16, 32, kernel_size=(3, 3), stride=(1, 1), padding=(1, 1))\n",
      "    (1): BatchNorm2d(32, eps=1e-05, momentum=0.1, affine=True, track_running_stats=True)\n",
      "    (2): ReLU()\n",
      "    (3): MaxPool2d(kernel_size=3, stride=3, padding=0, dilation=1, ceil_mode=False)\n",
      "  )\n",
      "  (drop_out): Dropout(p=0.5, inplace=False)\n",
      "  (out): Linear(in_features=32, out_features=100, bias=True)\n",
      "  (fc2): Linear(in_features=100, out_features=1, bias=True)\n",
      ")\n"
     ]
    }
   ],
   "source": [
    "cnn = CNN()\n",
    "print(cnn)"
   ]
  },
  {
   "cell_type": "code",
   "execution_count": 7,
   "metadata": {},
   "outputs": [
    {
     "name": "stdout",
     "output_type": "stream",
     "text": [
      "int32\n"
     ]
    }
   ],
   "source": [
    "training_data = np.load(\"image_arrays_train/BKWGKCN.npy\")\n",
    "x_train = training_data.view('int32')\n",
    "\n",
    "print(x_train.dtype)"
   ]
  },
  {
   "cell_type": "code",
   "execution_count": 8,
   "metadata": {},
   "outputs": [],
   "source": [
    "def get_image_center(fid, folder='image_arrays_train'):\n",
    "    fn = f'{folder}/{fid}.npy'\n",
    "    arr = np.load(fn) # Loading the data with numpy  \n",
    "    \n",
    "    arr1 =[]\n",
    "    for i in range(len(arr)):\n",
    "        if(i%30 <14):\n",
    "            arr1.append(arr[i])     \n",
    "    arr2 = np.array(arr1)\n",
    "    arr_center = arr2[:,17:26,17:26] #360 * 9 * 9matrix\n",
    "    return arr_center.view('int32')\n",
    "\n",
    "#looading train data and target\n",
    "X_train = [get_image_center(fid) for fid in train['Field_ID'].values]\n",
    "y_train = [val for val in train['Yield'].values]"
   ]
  },
  {
   "cell_type": "code",
   "execution_count": 9,
   "metadata": {},
   "outputs": [],
   "source": [
    "from sklearn.model_selection import train_test_split\n",
    "X_train, X_test, y_train, y_test = train_test_split(X_train, y_train, test_size = 0.2, random_state= 42)"
   ]
  },
  {
   "cell_type": "code",
   "execution_count": 10,
   "metadata": {},
   "outputs": [],
   "source": [
    "X = torch.Tensor([each for each in X_train])\n",
    "y = torch.Tensor(y_train)\n",
    "X_test = torch.Tensor([each for each in X_test])\n",
    "y_test = torch.Tensor(y_test)"
   ]
  },
  {
   "cell_type": "code",
   "execution_count": 11,
   "metadata": {},
   "outputs": [
    {
     "name": "stdout",
     "output_type": "stream",
     "text": [
      "torch.Size([168, 9, 9]) tensor(3.8500)\n"
     ]
    }
   ],
   "source": [
    "print(X[0].shape,y[0])"
   ]
  },
  {
   "cell_type": "code",
   "execution_count": 12,
   "metadata": {},
   "outputs": [],
   "source": [
    "inputs = Variable(X)\n",
    "outputs = Variable(y)\n",
    "input_test= Variable(X_test)\n",
    "output_test = Variable(y_test)"
   ]
  },
  {
   "cell_type": "code",
   "execution_count": 13,
   "metadata": {},
   "outputs": [
    {
     "name": "stdout",
     "output_type": "stream",
     "text": [
      "10 tensor(2.5564, grad_fn=<MseLossBackward>)\n",
      "20 tensor(2.4471, grad_fn=<MseLossBackward>)\n",
      "30 tensor(2.3943, grad_fn=<MseLossBackward>)\n",
      "40 tensor(2.3366, grad_fn=<MseLossBackward>)\n",
      "50 tensor(2.2941, grad_fn=<MseLossBackward>)\n",
      "60 tensor(2.2983, grad_fn=<MseLossBackward>)\n",
      "70 tensor(2.3020, grad_fn=<MseLossBackward>)\n",
      "80 tensor(2.2812, grad_fn=<MseLossBackward>)\n",
      "90 tensor(2.2773, grad_fn=<MseLossBackward>)\n",
      "100 tensor(2.2867, grad_fn=<MseLossBackward>)\n"
     ]
    }
   ],
   "source": [
    "EPOCH = 100\n",
    "LR = 0.01\n",
    "\n",
    "loss_func = nn.MSELoss() # this is for regression mean squared loss\n",
    "optimizer = torch.optim.Adam(cnn.parameters(), lr = LR)\n",
    "\n",
    "#simple cnn training\n",
    "for epoch in range(EPOCH): \n",
    "    pred_y = cnn(inputs)\n",
    "    loss = loss_func(pred_y[:,0],outputs)\n",
    "    optimizer.zero_grad()\n",
    "    loss.backward()\n",
    "    optimizer.step()\n",
    "    \n",
    "    if (epoch+1)%10 == 0: \n",
    "        test_output = cnn(input_test)\n",
    "        print(epoch+1,loss_func(test_output[:,0],output_test))"
   ]
  },
  {
   "cell_type": "code",
   "execution_count": 14,
   "metadata": {},
   "outputs": [],
   "source": [
    "def get_image_center(fid, folder='image_arrays_test'):\n",
    "    fn = f'{folder}/{fid}.npy'\n",
    "    arr = np.load(fn) # Loading the data with numpy  \n",
    "    arr1 =[]\n",
    "    for i in range(len(arr)):\n",
    "        if(i%30 <14):\n",
    "            arr1.append(arr[i])     \n",
    "    arr2 = np.array(arr1)\n",
    "    arr_center = arr2[:,17:26,17:26] #360 * 9 * 9matrix\n",
    "    return arr_center.view('int32')\n"
   ]
  },
  {
   "cell_type": "code",
   "execution_count": 15,
   "metadata": {},
   "outputs": [
    {
     "name": "stdout",
     "output_type": "stream",
     "text": [
      "[2.4879556 2.9866633 3.1167402 ... 1.8688099 2.844859  3.5555334]\n"
     ]
    },
    {
     "data": {
      "text/html": [
       "<div>\n",
       "<style scoped>\n",
       "    .dataframe tbody tr th:only-of-type {\n",
       "        vertical-align: middle;\n",
       "    }\n",
       "\n",
       "    .dataframe tbody tr th {\n",
       "        vertical-align: top;\n",
       "    }\n",
       "\n",
       "    .dataframe thead th {\n",
       "        text-align: right;\n",
       "    }\n",
       "</style>\n",
       "<table border=\"1\" class=\"dataframe\">\n",
       "  <thead>\n",
       "    <tr style=\"text-align: right;\">\n",
       "      <th></th>\n",
       "      <th>Field_ID</th>\n",
       "      <th>Yield</th>\n",
       "    </tr>\n",
       "  </thead>\n",
       "  <tbody>\n",
       "    <tr>\n",
       "      <td>0</td>\n",
       "      <td>E9UZCEA</td>\n",
       "      <td>2.487956</td>\n",
       "    </tr>\n",
       "    <tr>\n",
       "      <td>1</td>\n",
       "      <td>1WGGS1Q</td>\n",
       "      <td>2.986663</td>\n",
       "    </tr>\n",
       "    <tr>\n",
       "      <td>2</td>\n",
       "      <td>EG2KXE2</td>\n",
       "      <td>3.116740</td>\n",
       "    </tr>\n",
       "    <tr>\n",
       "      <td>3</td>\n",
       "      <td>HC3GQXF</td>\n",
       "      <td>2.564242</td>\n",
       "    </tr>\n",
       "    <tr>\n",
       "      <td>4</td>\n",
       "      <td>7AK6GFK</td>\n",
       "      <td>3.151544</td>\n",
       "    </tr>\n",
       "  </tbody>\n",
       "</table>\n",
       "</div>"
      ],
      "text/plain": [
       "  Field_ID     Yield\n",
       "0  E9UZCEA  2.487956\n",
       "1  1WGGS1Q  2.986663\n",
       "2  EG2KXE2  3.116740\n",
       "3  HC3GQXF  2.564242\n",
       "4  7AK6GFK  3.151544"
      ]
     },
     "execution_count": 15,
     "metadata": {},
     "output_type": "execute_result"
    }
   ],
   "source": [
    "ss = pd.read_csv('SampleSubmission.csv')\n",
    "test = [get_image_center(fid) for fid in ss['Field_ID'].values]\n",
    "X1 = torch.Tensor([each for each in test])\n",
    "preds = cnn(X1)\n",
    "preds1 = preds.detach().numpy()\n",
    "preds2 = preds1.flatten()\n",
    "print(preds2)\n",
    "ss['Yield'] = preds2\n",
    "ss.to_csv('Sub.csv', index=False)\n",
    "ss.head()"
   ]
  },
  {
   "cell_type": "code",
   "execution_count": null,
   "metadata": {},
   "outputs": [],
   "source": []
  }
 ],
 "metadata": {
  "kernelspec": {
   "display_name": "Python 3",
   "language": "python",
   "name": "python3"
  },
  "language_info": {
   "codemirror_mode": {
    "name": "ipython",
    "version": 3
   },
   "file_extension": ".py",
   "mimetype": "text/x-python",
   "name": "python",
   "nbconvert_exporter": "python",
   "pygments_lexer": "ipython3",
   "version": "3.7.4"
  }
 },
 "nbformat": 4,
 "nbformat_minor": 2
}
