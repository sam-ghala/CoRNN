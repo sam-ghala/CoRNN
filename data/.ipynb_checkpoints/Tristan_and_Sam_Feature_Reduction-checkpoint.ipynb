{
 "cells": [
  {
   "cell_type": "markdown",
   "metadata": {
    "id": "tew30NMA0aEb"
   },
   "source": [
    "# Introduction\n",
    "\n",
    "This notebook is a 'quick-start' for the [CGIAR Crop Yield Prediction Challenge](https://zindi.africa/competitions/cgiar-crop-yield-prediction-challenge). We'll take a look at the data, fit a quick model and make a submission, with hints at each stage for extra options to investigate.\n",
    "\n",
    "Let's dive in!"
   ]
  },
  {
   "cell_type": "markdown",
   "metadata": {
    "id": "VxwG6ebv0cPi"
   },
   "source": [
    "# Setup\n",
    "\n",
    "You can get the zip files from Zindi or add to your Google drive using the following links:\n",
    "\n",
    "Test data: https://drive.google.com/file/d/1yTEgzn8JJn0mZmJ7NDUbwAB1WSzwRScB/view?usp=sharing\n",
    "\n",
    "Training data: \n",
    "https://drive.google.com/file/d/1-0UNiBpvfdRq8rgUC3Kb22YPWP_YnoKj/view?usp=sharing\n",
    "\n",
    "You'll also need the smaller files from Zindi (Train.csv, SampleSubmission.csv and bandnames.txt) which you can just upload using the files tab."
   ]
  },
  {
   "cell_type": "code",
   "execution_count": 2,
   "metadata": {
    "id": "KUPfiZYP0V9j"
   },
   "outputs": [
    {
     "name": "stdout",
     "output_type": "stream",
     "text": [
      "cp: drive/My Drive/image_arrays_train.zip: No such file or directory\n",
      "cp: drive/My Drive/image_arrays_test.zip: No such file or directory\n"
     ]
    }
   ],
   "source": [
    "# Copying in the zip files from Google Drive (alternately just upload them)\n",
    "!cp 'drive/My Drive/image_arrays_train.zip' .\n",
    "!cp 'drive/My Drive/image_arrays_test.zip' ."
   ]
  },
  {
   "cell_type": "code",
   "execution_count": 3,
   "metadata": {
    "id": "hBJflFRl01eb"
   },
   "outputs": [
    {
     "name": "stdout",
     "output_type": "stream",
     "text": [
      "unzip:  cannot find or open image_arrays_train.zip, image_arrays_train.zip.zip or image_arrays_train.zip.ZIP.\n",
      "unzip:  cannot find or open image_arrays_test.zip, image_arrays_test.zip.zip or image_arrays_test.zip.ZIP.\n"
     ]
    }
   ],
   "source": [
    "# Extract\n",
    "!unzip -q image_arrays_train.zip\n",
    "!unzip -q image_arrays_test.zip"
   ]
  },
  {
   "cell_type": "code",
   "execution_count": 4,
   "metadata": {
    "colab": {
     "base_uri": "https://localhost:8080/",
     "height": 34
    },
    "id": "CMJopyhk04j0",
    "outputId": "2c5ac601-d46f-413d-f1bc-a6d7d6893da1"
   },
   "outputs": [
    {
     "name": "stdout",
     "output_type": "stream",
     "text": [
      "SampleSubmission.csv Sub.csv              Train.csv\r\n"
     ]
    }
   ],
   "source": [
    "# Check the CSV files are present\n",
    "!ls *.csv # Upload through the files menu"
   ]
  },
  {
   "cell_type": "code",
   "execution_count": 5,
   "metadata": {
    "colab": {
     "base_uri": "https://localhost:8080/",
     "height": 34
    },
    "id": "-eUeUdHwKyZd",
    "outputId": "32c8b0d6-afce-443b-d74d-31815129c9f0"
   },
   "outputs": [
    {
     "name": "stdout",
     "output_type": "stream",
     "text": [
      "bandnames.txt\r\n"
     ]
    }
   ],
   "source": [
    "# Check for bandnames.txt\n",
    "!ls *.txt"
   ]
  },
  {
   "cell_type": "markdown",
   "metadata": {
    "id": "2jJ52BFS1Gxn"
   },
   "source": [
    "# Loading the data\n",
    "\n",
    "The data isn't a simple table - instead we must read the inputs from individual .npy files. Here we'll load the dataframes, open a file or two and take a look at the format."
   ]
  },
  {
   "cell_type": "code",
   "execution_count": 6,
   "metadata": {
    "id": "TTWgteym1IMD"
   },
   "outputs": [],
   "source": [
    "import pandas as pd\n",
    "import numpy as np\n",
    "from matplotlib import pyplot as plt"
   ]
  },
  {
   "cell_type": "code",
   "execution_count": 7,
   "metadata": {
    "colab": {
     "base_uri": "https://localhost:8080/",
     "height": 212
    },
    "id": "9zX6spSW1Na1",
    "outputId": "c630c20b-d2fe-4333-df6d-7c238abb3f44"
   },
   "outputs": [
    {
     "name": "stdout",
     "output_type": "stream",
     "text": [
      "(2552, 4)\n"
     ]
    },
    {
     "data": {
      "text/html": [
       "<div>\n",
       "<style scoped>\n",
       "    .dataframe tbody tr th:only-of-type {\n",
       "        vertical-align: middle;\n",
       "    }\n",
       "\n",
       "    .dataframe tbody tr th {\n",
       "        vertical-align: top;\n",
       "    }\n",
       "\n",
       "    .dataframe thead th {\n",
       "        text-align: right;\n",
       "    }\n",
       "</style>\n",
       "<table border=\"1\" class=\"dataframe\">\n",
       "  <thead>\n",
       "    <tr style=\"text-align: right;\">\n",
       "      <th></th>\n",
       "      <th>Field_ID</th>\n",
       "      <th>Year</th>\n",
       "      <th>Quality</th>\n",
       "      <th>Yield</th>\n",
       "    </tr>\n",
       "  </thead>\n",
       "  <tbody>\n",
       "    <tr>\n",
       "      <td>0</td>\n",
       "      <td>MH2O0YH</td>\n",
       "      <td>2019</td>\n",
       "      <td>3</td>\n",
       "      <td>3.686</td>\n",
       "    </tr>\n",
       "    <tr>\n",
       "      <td>1</td>\n",
       "      <td>O9TURWL</td>\n",
       "      <td>2019</td>\n",
       "      <td>2</td>\n",
       "      <td>5.657</td>\n",
       "    </tr>\n",
       "    <tr>\n",
       "      <td>2</td>\n",
       "      <td>35AFSDD</td>\n",
       "      <td>2019</td>\n",
       "      <td>3</td>\n",
       "      <td>3.082</td>\n",
       "    </tr>\n",
       "    <tr>\n",
       "      <td>3</td>\n",
       "      <td>PM05EG9</td>\n",
       "      <td>2019</td>\n",
       "      <td>2</td>\n",
       "      <td>2.707</td>\n",
       "    </tr>\n",
       "    <tr>\n",
       "      <td>4</td>\n",
       "      <td>V7PZBCG</td>\n",
       "      <td>2019</td>\n",
       "      <td>2</td>\n",
       "      <td>2.679</td>\n",
       "    </tr>\n",
       "  </tbody>\n",
       "</table>\n",
       "</div>"
      ],
      "text/plain": [
       "  Field_ID  Year  Quality  Yield\n",
       "0  MH2O0YH  2019        3  3.686\n",
       "1  O9TURWL  2019        2  5.657\n",
       "2  35AFSDD  2019        3  3.082\n",
       "3  PM05EG9  2019        2  2.707\n",
       "4  V7PZBCG  2019        2  2.679"
      ]
     },
     "execution_count": 7,
     "metadata": {},
     "output_type": "execute_result"
    }
   ],
   "source": [
    "# Train.csv has the Field_IDs needed to find the npy files\n",
    "train = pd.read_csv('Train.csv')\n",
    "lowQualityFieldIDs = train.loc[train['Quality']<=1]['Field_ID']\n",
    "train = train[train.Quality > 1]\n",
    "print(train.shape)\n",
    "train.head()"
   ]
  },
  {
   "cell_type": "code",
   "execution_count": 8,
   "metadata": {
    "colab": {
     "base_uri": "https://localhost:8080/",
     "height": 318
    },
    "id": "aNf1PvDm1D_C",
    "outputId": "1227a99f-d483-4fc5-a654-01dac1eed422"
   },
   "outputs": [
    {
     "name": "stdout",
     "output_type": "stream",
     "text": [
      "Loading image_arrays_train/2FZOWHU.npy as an array\n",
      "Array shape: (360, 41, 41)\n"
     ]
    },
    {
     "data": {
      "text/plain": [
       "<matplotlib.image.AxesImage at 0x7fae24c40ad0>"
      ]
     },
     "execution_count": 8,
     "metadata": {},
     "output_type": "execute_result"
    },
    {
     "data": {
      "image/png": "[encoded data removed]",
      "text/plain": [
       "<Figure size 432x288 with 1 Axes>"
      ]
     },
     "metadata": {
      "needs_background": "light"
     },
     "output_type": "display_data"
    }
   ],
   "source": [
    "# Look at a sample:\n",
    "fid = train['Field_ID'].sample().values[0]\n",
    "fn = f'image_arrays_train/{fid}.npy' # File name based on Field_ID\n",
    "print(f'Loading {fn} as an array')\n",
    "arr = np.load(fn) # Loading the data with numpy\n",
    "print('Array shape:', arr.shape) # 360 bands, images 40 or 41px a side\n",
    "rgb_jan = np.stack([arr[4], arr[3], arr[2]], axis=-1) # Combine three bands for viewing\n",
    "rgb_jan = rgb_jan / np.max(rgb_jan) # Scale band values to (0, 1) for easy image display\n",
    "plt.imshow(rgb_jan) # View with matplotlib"
   ]
  },
  {
   "cell_type": "code",
   "execution_count": 9,
   "metadata": {
    "colab": {
     "base_uri": "https://localhost:8080/",
     "height": 499
    },
    "id": "TK-yAAnq2CHn",
    "outputId": "ec1f05d3-4529-42ef-a78e-d8a3c2765be4"
   },
   "outputs": [
    {
     "data": {
      "image/png": "[encoded data removed]",
      "text/plain": [
       "<Figure size 864x576 with 12 Axes>"
      ]
     },
     "metadata": {},
     "output_type": "display_data"
    }
   ],
   "source": [
    "# View false colour images from each month in the year:\n",
    "fig, axs = plt.subplots(3, 4, figsize=(12, 8), facecolor='w', edgecolor='k')\n",
    "fig.subplots_adjust(hspace = .5, wspace=.001)\n",
    "axs = axs.ravel()\n",
    "for i in range(12):\n",
    "  rgb = np.stack([arr[i*30 + 8], arr[i*30 + 4], arr[i*30 + 3]], axis=-1) # False colour (band 8, 4 and 3)\n",
    "  rgb = rgb / 4000 # Scaling consistently \n",
    "  axs[i].imshow(rgb.clip(0, 1))\n",
    "  axs[i].set_title(str(i+1))"
   ]
  },
  {
   "cell_type": "markdown",
   "metadata": {
    "id": "gMmd84DTR07r"
   },
   "source": [
    "What's with the white fluffy stuff? These are clouds - the bane of all remote sensing analysts..."
   ]
  },
  {
   "cell_type": "code",
   "execution_count": 10,
   "metadata": {
    "colab": {
     "base_uri": "https://localhost:8080/",
     "height": 499
    },
    "id": "dDdXl1xz3gkM",
    "outputId": "c49711e9-a827-497e-8235-044b7122f4a2"
   },
   "outputs": [
    {
     "data": {
      "image/png": "[encoded data removed]",
      "text/plain": [
       "<Figure size 864x576 with 12 Axes>"
      ]
     },
     "metadata": {},
     "output_type": "display_data"
    }
   ],
   "source": [
    "# Show the SWIR band (B12) where clouds have a high reflectance\n",
    "fig, axs = plt.subplots(3, 4, figsize=(12, 8), facecolor='w', edgecolor='k')\n",
    "fig.subplots_adjust(hspace = .5, wspace=.001)\n",
    "axs = axs.ravel()\n",
    "for i in range(12):\n",
    "  cloud = arr[i*30 + 11]\n",
    "  axs[i].imshow(cloud, vmin=0, vmax=4000)\n",
    "  axs[i].set_title(str(i+1))"
   ]
  },
  {
   "cell_type": "markdown",
   "metadata": {
    "id": "PwQs-Nw753Cx"
   },
   "source": [
    "# Sampling from the images\n",
    "\n",
    "There are some hard-coded band indexes in the examples above that won't have made sense - how did we know which bands were which?\n",
    "There are 30 bands for each month. You can see the full list of bands with:"
   ]
  },
  {
   "cell_type": "code",
   "execution_count": 11,
   "metadata": {
    "colab": {
     "base_uri": "https://localhost:8080/",
     "height": 54
    },
    "id": "q02RjjC3ETIF",
    "outputId": "79b489b2-7405-4d64-e9ca-602b79ffb774"
   },
   "outputs": [
    {
     "name": "stdout",
     "output_type": "stream",
     "text": [
      "['0_S2_B1', '0_S2_B2', '0_S2_B3', '0_S2_B4', '0_S2_B5', '0_S2_B6', '0_S2_B7', '0_S2_B8', '0_S2_B8A', '0_S2_B9', '0_S2_B10', '0_S2_B11', '0_S2_B12', '0_S2_QA10', '0_S2_QA20', '0_S2_QA60', '0_CLIM_aet', '0_CLIM_def', '0_CLIM_pdsi', '0_CLIM_pet', '0_CLIM_pr', '0_CLIM_ro', '0_CLIM_soil', '0_CLIM_srad', '0_CLIM_swe', '0_CLIM_tmmn', '0_CLIM_tmmx', '0_CLIM_vap', '0_CLIM_vpd', '0_CLIM_vs', '1_S2_B1', '1_S2_B2', '1_S2_B3', '1_S2_B4', '1_S2_B5', '1_S2_B6', '1_S2_B7', '1_S2_B8', '1_S2_B8A', '1_S2_B9', '1_S2_B10', '1_S2_B11', '1_S2_B12', '1_S2_QA10', '1_S2_QA20', '1_S2_QA60', '1_CLIM_aet', '1_CLIM_def', '1_CLIM_pdsi', '1_CLIM_pet', '1_CLIM_pr', '1_CLIM_ro', '1_CLIM_soil', '1_CLIM_srad', '1_CLIM_swe', '1_CLIM_tmmn', '1_CLIM_tmmx', '1_CLIM_vap', '1_CLIM_vpd', '1_CLIM_vs', '2_S2_B1', '2_S2_B2', '2_S2_B3', '2_S2_B4', '2_S2_B5', '2_S2_B6', '2_S2_B7', '2_S2_B8', '2_S2_B8A', '2_S2_B9', '2_S2_B10', '2_S2_B11', '2_S2_B12', '2_S2_QA10', '2_S2_QA20', '2_S2_QA60', '2_CLIM_aet', '2_CLIM_def', '2_CLIM_pdsi', '2_CLIM_pet', '2_CLIM_pr', '2_CLIM_ro', '2_CLIM_soil', '2_CLIM_srad', '2_CLIM_swe', '2_CLIM_tmmn', '2_CLIM_tmmx', '2_CLIM_vap', '2_CLIM_vpd', '2_CLIM_vs', '3_S2_B1', '3_S2_B2', '3_S2_B3', '3_S2_B4', '3_S2_B5', '3_S2_B6', '3_S2_B7', '3_S2_B8', '3_S2_B8A', '3_S2_B9', '3_S2_B10', '3_S2_B11', '3_S2_B12', '3_S2_QA10', '3_S2_QA20', '3_S2_QA60', '3_CLIM_aet', '3_CLIM_def', '3_CLIM_pdsi', '3_CLIM_pet', '3_CLIM_pr', '3_CLIM_ro', '3_CLIM_soil', '3_CLIM_srad', '3_CLIM_swe', '3_CLIM_tmmn', '3_CLIM_tmmx', '3_CLIM_vap', '3_CLIM_vpd', '3_CLIM_vs', '4_S2_B1', '4_S2_B2', '4_S2_B3', '4_S2_B4', '4_S2_B5', '4_S2_B6', '4_S2_B7', '4_S2_B8', '4_S2_B8A', '4_S2_B9', '4_S2_B10', '4_S2_B11', '4_S2_B12', '4_S2_QA10', '4_S2_QA20', '4_S2_QA60', '4_CLIM_aet', '4_CLIM_def', '4_CLIM_pdsi', '4_CLIM_pet', '4_CLIM_pr', '4_CLIM_ro', '4_CLIM_soil', '4_CLIM_srad', '4_CLIM_swe', '4_CLIM_tmmn', '4_CLIM_tmmx', '4_CLIM_vap', '4_CLIM_vpd', '4_CLIM_vs', '5_S2_B1', '5_S2_B2', '5_S2_B3', '5_S2_B4', '5_S2_B5', '5_S2_B6', '5_S2_B7', '5_S2_B8', '5_S2_B8A', '5_S2_B9', '5_S2_B10', '5_S2_B11', '5_S2_B12', '5_S2_QA10', '5_S2_QA20', '5_S2_QA60', '5_CLIM_aet', '5_CLIM_def', '5_CLIM_pdsi', '5_CLIM_pet', '5_CLIM_pr', '5_CLIM_ro', '5_CLIM_soil', '5_CLIM_srad', '5_CLIM_swe', '5_CLIM_tmmn', '5_CLIM_tmmx', '5_CLIM_vap', '5_CLIM_vpd', '5_CLIM_vs', '6_S2_B1', '6_S2_B2', '6_S2_B3', '6_S2_B4', '6_S2_B5', '6_S2_B6', '6_S2_B7', '6_S2_B8', '6_S2_B8A', '6_S2_B9', '6_S2_B10', '6_S2_B11', '6_S2_B12', '6_S2_QA10', '6_S2_QA20', '6_S2_QA60', '6_CLIM_aet', '6_CLIM_def', '6_CLIM_pdsi', '6_CLIM_pet', '6_CLIM_pr', '6_CLIM_ro', '6_CLIM_soil', '6_CLIM_srad', '6_CLIM_swe', '6_CLIM_tmmn', '6_CLIM_tmmx', '6_CLIM_vap', '6_CLIM_vpd', '6_CLIM_vs', '7_S2_B1', '7_S2_B2', '7_S2_B3', '7_S2_B4', '7_S2_B5', '7_S2_B6', '7_S2_B7', '7_S2_B8', '7_S2_B8A', '7_S2_B9', '7_S2_B10', '7_S2_B11', '7_S2_B12', '7_S2_QA10', '7_S2_QA20', '7_S2_QA60', '7_CLIM_aet', '7_CLIM_def', '7_CLIM_pdsi', '7_CLIM_pet', '7_CLIM_pr', '7_CLIM_ro', '7_CLIM_soil', '7_CLIM_srad', '7_CLIM_swe', '7_CLIM_tmmn', '7_CLIM_tmmx', '7_CLIM_vap', '7_CLIM_vpd', '7_CLIM_vs', '8_S2_B1', '8_S2_B2', '8_S2_B3', '8_S2_B4', '8_S2_B5', '8_S2_B6', '8_S2_B7', '8_S2_B8', '8_S2_B8A', '8_S2_B9', '8_S2_B10', '8_S2_B11', '8_S2_B12', '8_S2_QA10', '8_S2_QA20', '8_S2_QA60', '8_CLIM_aet', '8_CLIM_def', '8_CLIM_pdsi', '8_CLIM_pet', '8_CLIM_pr', '8_CLIM_ro', '8_CLIM_soil', '8_CLIM_srad', '8_CLIM_swe', '8_CLIM_tmmn', '8_CLIM_tmmx', '8_CLIM_vap', '8_CLIM_vpd', '8_CLIM_vs', '9_S2_B1', '9_S2_B2', '9_S2_B3', '9_S2_B4', '9_S2_B5', '9_S2_B6', '9_S2_B7', '9_S2_B8', '9_S2_B8A', '9_S2_B9', '9_S2_B10', '9_S2_B11', '9_S2_B12', '9_S2_QA10', '9_S2_QA20', '9_S2_QA60', '9_CLIM_aet', '9_CLIM_def', '9_CLIM_pdsi', '9_CLIM_pet', '9_CLIM_pr', '9_CLIM_ro', '9_CLIM_soil', '9_CLIM_srad', '9_CLIM_swe', '9_CLIM_tmmn', '9_CLIM_tmmx', '9_CLIM_vap', '9_CLIM_vpd', '9_CLIM_vs', '10_S2_B1', '10_S2_B2', '10_S2_B3', '10_S2_B4', '10_S2_B5', '10_S2_B6', '10_S2_B7', '10_S2_B8', '10_S2_B8A', '10_S2_B9', '10_S2_B10', '10_S2_B11', '10_S2_B12', '10_S2_QA10', '10_S2_QA20', '10_S2_QA60', '10_CLIM_aet', '10_CLIM_def', '10_CLIM_pdsi', '10_CLIM_pet', '10_CLIM_pr', '10_CLIM_ro', '10_CLIM_soil', '10_CLIM_srad', '10_CLIM_swe', '10_CLIM_tmmn', '10_CLIM_tmmx', '10_CLIM_vap', '10_CLIM_vpd', '10_CLIM_vs', '11_S2_B1', '11_S2_B2', '11_S2_B3', '11_S2_B4', '11_S2_B5', '11_S2_B6', '11_S2_B7', '11_S2_B8', '11_S2_B8A', '11_S2_B9', '11_S2_B10', '11_S2_B11', '11_S2_B12', '11_S2_QA10', '11_S2_QA20', '11_S2_QA60', '11_CLIM_aet', '11_CLIM_def', '11_CLIM_pdsi', '11_CLIM_pet', '11_CLIM_pr', '11_CLIM_ro', '11_CLIM_soil', '11_CLIM_srad', '11_CLIM_swe', '11_CLIM_tmmn', '11_CLIM_tmmx', '11_CLIM_vap', '11_CLIM_vpd', '11_CLIM_vs']\n"
     ]
    }
   ],
   "source": [
    "band_names = [l.strip() for l in open('bandnames.txt', 'r').readlines()]\n",
    "print(band_names)"
   ]
  },
  {
   "cell_type": "markdown",
   "metadata": {
    "id": "HQ3M6O2QLivY"
   },
   "source": [
    "0_S2_B1 is band one from the Sentinel 2 image for January (month 0). They're ordered, so we know that the first image band in the array is 0_S2_B1...\n",
    "\n",
    "You'll likely want to examine specific bands. Here's an example where we create a function to sample the center point (20, 20) for specified bands from each month:"
   ]
  },
  {
   "cell_type": "code",
   "execution_count": 12,
   "metadata": {
    "id": "ercQTzbA4VAI"
   },
   "outputs": [],
   "source": [
    "def process_im(fid, folder='image_arrays_train'):\n",
    "  fn = f'{folder}/{fid}.npy'\n",
    "  arr = np.load(fn)\n",
    "  bands_of_interest = ['S2_B5', 'S2_B4', 'S2_B3', 'S2_B2', 'CLIM_pr', 'CLIM_soil']\n",
    "  values = {}\n",
    "  for month in range(12):\n",
    "    bns = [str(month) + '_' + b for b in bands_of_interest] # Bands of interest for this month \n",
    "    idxs = np.where(np.isin(band_names, bns)) # Index of these bands\n",
    "    vs = arr[idxs, 20, 20] # Sample the im at the center point\n",
    "#     for bn, v in zip(bns, vs[0]):\n",
    "    for bn, v in zip(bns, vs[0]):\n",
    "      values[bn] = v\n",
    "  return values\n",
    "\n",
    "# Example\n",
    "# process_im('35AFSDD')"
   ]
  },
  {
   "cell_type": "markdown",
   "metadata": {
    "id": "H54JvdaYMGMC"
   },
   "source": [
    "With this, we can sample the inputs for each field in train and use that to build a dataframe of input features:"
   ]
  },
  {
   "cell_type": "code",
   "execution_count": 13,
   "metadata": {
    "colab": {
     "base_uri": "https://localhost:8080/",
     "height": 215
    },
    "id": "ARy0RY98L65B",
    "outputId": "65724ade-7821-47ff-b54d-172e549f4c93"
   },
   "outputs": [
    {
     "data": {
      "text/html": [
       "<div>\n",
       "<style scoped>\n",
       "    .dataframe tbody tr th:only-of-type {\n",
       "        vertical-align: middle;\n",
       "    }\n",
       "\n",
       "    .dataframe tbody tr th {\n",
       "        vertical-align: top;\n",
       "    }\n",
       "\n",
       "    .dataframe thead th {\n",
       "        text-align: right;\n",
       "    }\n",
       "</style>\n",
       "<table border=\"1\" class=\"dataframe\">\n",
       "  <thead>\n",
       "    <tr style=\"text-align: right;\">\n",
       "      <th></th>\n",
       "      <th>0_S2_B5</th>\n",
       "      <th>0_S2_B4</th>\n",
       "      <th>0_S2_B3</th>\n",
       "      <th>0_S2_B2</th>\n",
       "      <th>0_CLIM_pr</th>\n",
       "      <th>0_CLIM_soil</th>\n",
       "      <th>1_S2_B5</th>\n",
       "      <th>1_S2_B4</th>\n",
       "      <th>1_S2_B3</th>\n",
       "      <th>1_S2_B2</th>\n",
       "      <th>...</th>\n",
       "      <th>10_CLIM_pr</th>\n",
       "      <th>10_CLIM_soil</th>\n",
       "      <th>11_S2_B5</th>\n",
       "      <th>11_S2_B4</th>\n",
       "      <th>11_S2_B3</th>\n",
       "      <th>11_S2_B2</th>\n",
       "      <th>11_CLIM_pr</th>\n",
       "      <th>11_CLIM_soil</th>\n",
       "      <th>Field_ID</th>\n",
       "      <th>Yield</th>\n",
       "    </tr>\n",
       "  </thead>\n",
       "  <tbody>\n",
       "    <tr>\n",
       "      <td>0</td>\n",
       "      <td>934</td>\n",
       "      <td>932</td>\n",
       "      <td>1173</td>\n",
       "      <td>1392</td>\n",
       "      <td>4</td>\n",
       "      <td>287</td>\n",
       "      <td>1015</td>\n",
       "      <td>1036</td>\n",
       "      <td>1397</td>\n",
       "      <td>1516</td>\n",
       "      <td>...</td>\n",
       "      <td>83</td>\n",
       "      <td>93</td>\n",
       "      <td>744</td>\n",
       "      <td>699</td>\n",
       "      <td>393</td>\n",
       "      <td>790</td>\n",
       "      <td>125</td>\n",
       "      <td>215</td>\n",
       "      <td>MH2O0YH</td>\n",
       "      <td>3.686</td>\n",
       "    </tr>\n",
       "    <tr>\n",
       "      <td>1</td>\n",
       "      <td>880</td>\n",
       "      <td>821</td>\n",
       "      <td>924</td>\n",
       "      <td>1116</td>\n",
       "      <td>4</td>\n",
       "      <td>287</td>\n",
       "      <td>933</td>\n",
       "      <td>873</td>\n",
       "      <td>1011</td>\n",
       "      <td>1152</td>\n",
       "      <td>...</td>\n",
       "      <td>78</td>\n",
       "      <td>96</td>\n",
       "      <td>703</td>\n",
       "      <td>524</td>\n",
       "      <td>323</td>\n",
       "      <td>420</td>\n",
       "      <td>126</td>\n",
       "      <td>215</td>\n",
       "      <td>O9TURWL</td>\n",
       "      <td>5.657</td>\n",
       "    </tr>\n",
       "    <tr>\n",
       "      <td>2</td>\n",
       "      <td>1016</td>\n",
       "      <td>1070</td>\n",
       "      <td>1357</td>\n",
       "      <td>1632</td>\n",
       "      <td>4</td>\n",
       "      <td>278</td>\n",
       "      <td>1108</td>\n",
       "      <td>1193</td>\n",
       "      <td>1588</td>\n",
       "      <td>1947</td>\n",
       "      <td>...</td>\n",
       "      <td>75</td>\n",
       "      <td>93</td>\n",
       "      <td>2935</td>\n",
       "      <td>2961</td>\n",
       "      <td>3598</td>\n",
       "      <td>4145</td>\n",
       "      <td>135</td>\n",
       "      <td>289</td>\n",
       "      <td>35AFSDD</td>\n",
       "      <td>3.082</td>\n",
       "    </tr>\n",
       "    <tr>\n",
       "      <td>3</td>\n",
       "      <td>777</td>\n",
       "      <td>784</td>\n",
       "      <td>639</td>\n",
       "      <td>1064</td>\n",
       "      <td>3</td>\n",
       "      <td>299</td>\n",
       "      <td>832</td>\n",
       "      <td>875</td>\n",
       "      <td>823</td>\n",
       "      <td>1237</td>\n",
       "      <td>...</td>\n",
       "      <td>86</td>\n",
       "      <td>95</td>\n",
       "      <td>7289</td>\n",
       "      <td>7389</td>\n",
       "      <td>8025</td>\n",
       "      <td>8057</td>\n",
       "      <td>121</td>\n",
       "      <td>189</td>\n",
       "      <td>PM05EG9</td>\n",
       "      <td>2.707</td>\n",
       "    </tr>\n",
       "    <tr>\n",
       "      <td>4</td>\n",
       "      <td>1081</td>\n",
       "      <td>1122</td>\n",
       "      <td>1162</td>\n",
       "      <td>1487</td>\n",
       "      <td>20</td>\n",
       "      <td>427</td>\n",
       "      <td>1046</td>\n",
       "      <td>1063</td>\n",
       "      <td>1133</td>\n",
       "      <td>1454</td>\n",
       "      <td>...</td>\n",
       "      <td>122</td>\n",
       "      <td>1123</td>\n",
       "      <td>1054</td>\n",
       "      <td>1097</td>\n",
       "      <td>789</td>\n",
       "      <td>1349</td>\n",
       "      <td>194</td>\n",
       "      <td>1214</td>\n",
       "      <td>V7PZBCG</td>\n",
       "      <td>2.679</td>\n",
       "    </tr>\n",
       "  </tbody>\n",
       "</table>\n",
       "<p>5 rows × 74 columns</p>\n",
       "</div>"
      ],
      "text/plain": [
       "   0_S2_B5  0_S2_B4  0_S2_B3  0_S2_B2  0_CLIM_pr  0_CLIM_soil  1_S2_B5  \\\n",
       "0      934      932     1173     1392          4          287     1015   \n",
       "1      880      821      924     1116          4          287      933   \n",
       "2     1016     1070     1357     1632          4          278     1108   \n",
       "3      777      784      639     1064          3          299      832   \n",
       "4     1081     1122     1162     1487         20          427     1046   \n",
       "\n",
       "   1_S2_B4  1_S2_B3  1_S2_B2  ...  10_CLIM_pr  10_CLIM_soil  11_S2_B5  \\\n",
       "0     1036     1397     1516  ...          83            93       744   \n",
       "1      873     1011     1152  ...          78            96       703   \n",
       "2     1193     1588     1947  ...          75            93      2935   \n",
       "3      875      823     1237  ...          86            95      7289   \n",
       "4     1063     1133     1454  ...         122          1123      1054   \n",
       "\n",
       "   11_S2_B4  11_S2_B3  11_S2_B2  11_CLIM_pr  11_CLIM_soil  Field_ID  Yield  \n",
       "0       699       393       790         125           215   MH2O0YH  3.686  \n",
       "1       524       323       420         126           215   O9TURWL  5.657  \n",
       "2      2961      3598      4145         135           289   35AFSDD  3.082  \n",
       "3      7389      8025      8057         121           189   PM05EG9  2.707  \n",
       "4      1097       789      1349         194          1214   V7PZBCG  2.679  \n",
       "\n",
       "[5 rows x 74 columns]"
      ]
     },
     "execution_count": 13,
     "metadata": {},
     "output_type": "execute_result"
    }
   ],
   "source": [
    "# Make a new DF with the sampled values from each field \n",
    "train_sampled = pd.DataFrame([process_im(fid) for fid in train['Field_ID'].values])\n",
    "\n",
    "# Add in the field ID and yield\n",
    "train_sampled['Field_ID'] = train['Field_ID'].values\n",
    "train_sampled['Yield'] = train['Yield'].values\n",
    "train_sampled.head()"
   ]
  },
  {
   "cell_type": "markdown",
   "metadata": {
    "id": "DQeVfMqVHQim"
   },
   "source": [
    "# Fitting a model\n",
    "\n",
    "Now that we have a way to get features from the inputs, we can fit a model and see how it does:"
   ]
  },
  {
   "cell_type": "code",
   "execution_count": 14,
   "metadata": {
    "colab": {
     "base_uri": "https://localhost:8080/",
     "height": 301
    },
    "id": "n6KcHAzaHR9y",
    "outputId": "936e7eb5-ea3c-4474-8e9a-eea69adf61a7"
   },
   "outputs": [
    {
     "name": "stdout",
     "output_type": "stream",
     "text": [
      "Score: 1.5220829734227503\n"
     ]
    },
    {
     "data": {
      "text/plain": [
       "<matplotlib.collections.PathCollection at 0x7fae271f7510>"
      ]
     },
     "execution_count": 14,
     "metadata": {},
     "output_type": "execute_result"
    },
    {
     "data": {
      "image/png": "[encoded data removed]",
      "text/plain": [
       "<Figure size 432x288 with 1 Axes>"
      ]
     },
     "metadata": {
      "needs_background": "light"
     },
     "output_type": "display_data"
    }
   ],
   "source": [
    "from sklearn.ensemble import RandomForestRegressor\n",
    "from sklearn.model_selection import train_test_split\n",
    "from sklearn.metrics import mean_squared_error\n",
    "\n",
    "# Split the data\n",
    "X, y  = train_sampled[train_sampled.columns[:-2]], train_sampled['Yield']\n",
    "X_train, X_test, y_train, y_test = train_test_split(X, y)\n",
    "\n",
    "# Fit the model\n",
    "model = RandomForestRegressor()\n",
    "model.fit(X_train, y_train)\n",
    "\n",
    "# Score with RMSE\n",
    "print('Score:', mean_squared_error(y_test, model.predict(X_test), squared=False))\n",
    "\n",
    "# Plot pred vs actual for the test set:\n",
    "plt.scatter(y_test, model.predict(X_test), alpha=0.3)"
   ]
  },
  {
   "cell_type": "markdown",
   "metadata": {
    "id": "G4rQ27KfHjME"
   },
   "source": [
    "# Saving Preds\n",
    "\n",
    "Once we're happy with how we generate our inputs, we must process the test fields in the same way and save predictions. Here it is, condensed. Note the Field_IDs from the sample submission are used, and the same `process_im` function prepares the inputs, this time looking for .npy files in the 'image_arrays_test' folder. "
   ]
  },
  {
   "cell_type": "code",
   "execution_count": 15,
   "metadata": {
    "colab": {
     "base_uri": "https://localhost:8080/",
     "height": 195
    },
    "id": "f8mtZ12DI1nD",
    "outputId": "743a2d3a-c20d-4477-fe18-4920543d1835"
   },
   "outputs": [
    {
     "data": {
      "text/html": [
       "<div>\n",
       "<style scoped>\n",
       "    .dataframe tbody tr th:only-of-type {\n",
       "        vertical-align: middle;\n",
       "    }\n",
       "\n",
       "    .dataframe tbody tr th {\n",
       "        vertical-align: top;\n",
       "    }\n",
       "\n",
       "    .dataframe thead th {\n",
       "        text-align: right;\n",
       "    }\n",
       "</style>\n",
       "<table border=\"1\" class=\"dataframe\">\n",
       "  <thead>\n",
       "    <tr style=\"text-align: right;\">\n",
       "      <th></th>\n",
       "      <th>Field_ID</th>\n",
       "      <th>Yield</th>\n",
       "    </tr>\n",
       "  </thead>\n",
       "  <tbody>\n",
       "    <tr>\n",
       "      <td>0</td>\n",
       "      <td>E9UZCEA</td>\n",
       "      <td>4.884698</td>\n",
       "    </tr>\n",
       "    <tr>\n",
       "      <td>1</td>\n",
       "      <td>1WGGS1Q</td>\n",
       "      <td>2.956700</td>\n",
       "    </tr>\n",
       "    <tr>\n",
       "      <td>2</td>\n",
       "      <td>EG2KXE2</td>\n",
       "      <td>3.582123</td>\n",
       "    </tr>\n",
       "    <tr>\n",
       "      <td>3</td>\n",
       "      <td>HC3GQXF</td>\n",
       "      <td>3.797217</td>\n",
       "    </tr>\n",
       "    <tr>\n",
       "      <td>4</td>\n",
       "      <td>7AK6GFK</td>\n",
       "      <td>3.826922</td>\n",
       "    </tr>\n",
       "  </tbody>\n",
       "</table>\n",
       "</div>"
      ],
      "text/plain": [
       "  Field_ID     Yield\n",
       "0  E9UZCEA  4.884698\n",
       "1  1WGGS1Q  2.956700\n",
       "2  EG2KXE2  3.582123\n",
       "3  HC3GQXF  3.797217\n",
       "4  7AK6GFK  3.826922"
      ]
     },
     "execution_count": 15,
     "metadata": {},
     "output_type": "execute_result"
    }
   ],
   "source": [
    "# Load the sample submission file\n",
    "ss = pd.read_csv('SampleSubmission.csv')\n",
    "\n",
    "# Prep the data, using the same method we did for train\n",
    "test_sampled = pd.DataFrame([process_im(fid, folder='image_arrays_test') for fid in ss['Field_ID'].values])\n",
    "\n",
    "# Get model predictions\n",
    "preds = model.predict(test_sampled)\n",
    "\n",
    "# Store them in the submission dataframe and save\n",
    "ss['Yield'] = preds\n",
    "ss.to_csv('Sub.csv', index=False)\n",
    "ss.head()"
   ]
  },
  {
   "cell_type": "markdown",
   "metadata": {
    "id": "EqqwQQqaNFzh"
   },
   "source": [
    "You can submit the Sub.csv file generated here on Zindi. This example scores ~2 (not as good as our score on our local test set, because the fields are more geographically separated). Now let's chat about ways to make this better:"
   ]
  },
  {
   "cell_type": "markdown",
   "metadata": {
    "id": "Ny_hywBPNDPe"
   },
   "source": [
    "# Improvements\n",
    "\n",
    "\n",
    "1.   For the example above I chose the 'bands of interest' fairly randomly. A bit of research into which Sentinel 2 bands are used in this kind of task and what the different climate variables are should help make more informed choices there.\n",
    "2.   We looked at all 12 months. Maize is normally planted just before the March-May rainy season (I think?) and harvested a few months later. Choose which months you'll prioritise to cut down on less useful data\n",
    "3.   We looked at only the center pixel. Can you use a wider area to get better features? What about finding which pixels are most likely fields and sampling those?\n",
    "4.   We did no model tuning, so obviously lots of fun to be had there\n",
    "5.   Low-quality locations are often not fields - leave these out of your training set for better results. There are no low-quality (Quality=1) fields in the test set.\n",
    "6.   Common measures such as NDVI, EVI etc can be computed by combining different bands. Look up how these vegetative indices are calculated for sentinel 2 and see if you can add those as features.\n",
    "6.   ... As always, be creative - I'm sure there are lots more improvements to be made\n",
    "\n"
   ]
  },
  {
   "cell_type": "markdown",
   "metadata": {},
   "source": [
    "**Helper functions for grabbing data**"
   ]
  },
  {
   "cell_type": "code",
   "execution_count": 16,
   "metadata": {},
   "outputs": [],
   "source": [
    "band_names_noMonths = []\n",
    "for bn in band_names:\n",
    "    band_names_noMonths.append(bn[2:])\n",
    "        \n",
    "def process_im_bandName(fid, bandName, folder='image_arrays_train'):\n",
    "    fn = f'{folder}/{fid}.npy'\n",
    "    arr = np.load(fn)\n",
    "    bands_of_interest = [bandName]\n",
    "    values = {}\n",
    "    for month in range(12):\n",
    "        bns = [str(month) + '_' + b for b in bands_of_interest] # Bands of interest for this month\n",
    "        idxs = np.where(np.isin(band_names, bns)) # Index of these bands\n",
    "        vs = arr[idxs, 20, 20] # Sample the im at the center point\n",
    "        for bn, v in zip(bns, vs[0]):\n",
    "            values[bn] = v\n",
    "    return values\n",
    "\n",
    "def process_im_months(fid, month, folder='image_arrays_train'):\n",
    "    fn = f'{folder}/{fid}.npy'\n",
    "    arr = np.load(fn)\n",
    "    values = {}\n",
    "    bns = [str(month) + '_' + b for b in band_names_noMonths] # Bands of interest for this month\n",
    "    idxs = np.where(np.isin(band_names, bns)) # Index of these bands\n",
    "    vs = arr[idxs, 20, 20] # Sample the im at the center point\n",
    "    for bn, v in zip(bns, vs[0]):\n",
    "        values[bn] = v\n",
    "    return values\n",
    "\n",
    "def process_im_all(fid, folder='image_arrays_train'):\n",
    "    fn = f'{folder}/{fid}.npy'\n",
    "    arr = np.load(fn)\n",
    "    bands_of_interest = band_names_noMonths\n",
    "    values = {}\n",
    "    for month in range(12):\n",
    "        bns = [str(month) + '_' + b for b in bands_of_interest] # Bands of interest for this month \n",
    "        idxs = np.where(np.isin(band_names, bns)) # Index of these bands\n",
    "        vs = arr[idxs, 20, 20] # Sample the im at the center point\n",
    "        for bn, v in zip(bns, vs[0]):\n",
    "            values[bn] = v\n",
    "    return values\n",
    "\n",
    "\n",
    "# Example\n",
    "# process_im('35AFSDD')"
   ]
  },
  {
   "cell_type": "markdown",
   "metadata": {},
   "source": [
    "**K-Fold cross validation for each month**"
   ]
  },
  {
   "cell_type": "code",
   "execution_count": 17,
   "metadata": {},
   "outputs": [],
   "source": [
    "train_sampled = pd.DataFrame([process_im_all(fid) for fid in train['Field_ID'].values])"
   ]
  },
  {
   "cell_type": "code",
   "execution_count": 21,
   "metadata": {},
   "outputs": [],
   "source": [
    "num_Folds = 10"
   ]
  },
  {
   "cell_type": "code",
   "execution_count": 72,
   "metadata": {},
   "outputs": [],
   "source": [
    "allBandsByMonth = {}\n",
    "for i in range(12):\n",
    "    monthTemp = []\n",
    "    for k in range(30):\n",
    "        bN = str(i)+\"_\"+band_names_noMonths[k] \n",
    "        monthTemp.append(bN)\n",
    "    allBandsByMonth[i] = monthTemp\n",
    "# print(allBandsByMonth)"
   ]
  },
  {
   "cell_type": "code",
   "execution_count": 77,
   "metadata": {},
   "outputs": [
    {
     "name": "stdout",
     "output_type": "stream",
     "text": [
      "Error: 4.854269836415637\n",
      "Execution Time: 35.781172037124634\n"
     ]
    }
   ],
   "source": [
    "startTime = time()\n",
    "\n",
    "dfTrain = pd.DataFrame([process_im_all(fid) for fid in train['Field_ID'].values])\n",
    "\n",
    "for colName in dfTrain.columns:\n",
    "    if len(list(dfTrain[colName].unique())) < 3:\n",
    "        dfTrain.drop(colName, axis=1, inplace=True)\n",
    "        \n",
    "dfTrain['Field_ID'] = train['Field_ID'].values\n",
    "dfTrain['Yield'] = train['Yield'].values\n",
    "\n",
    "X, y  = np.array(dfTrain[dfTrain.columns[:-2]]), np.array(dfTrain['Yield'])\n",
    "\n",
    "\n",
    "model = LinearRegression()\n",
    "    \n",
    "kf = KFold(n_splits=num_Folds)\n",
    "    \n",
    "kResults = []\n",
    "for train_index, test_index in kf.split(X):\n",
    "    X_train, X_test = X[train_index], X[test_index]\n",
    "    y_train, y_test = y[train_index], y[test_index]\n",
    "    model.fit(X_train, y_train)\n",
    "    kResults.append(mean_squared_error(y_test, model.predict(X_test), squared=False)\n",
    "                    +mean_squared_error(y_test2, model2.predict(X_test2), squared=False))\n",
    "    \n",
    "print(\"Error:\",np.mean(kResults))\n",
    "endTime = time()\n",
    "print(\"Execution Time:\",endTime-startTime)"
   ]
  },
  {
   "cell_type": "code",
   "execution_count": 79,
   "metadata": {},
   "outputs": [
    {
     "name": "stdout",
     "output_type": "stream",
     "text": [
      "Months[ 0 5 ]: 4.083939008296371\n",
      "Split 1 Error: 1.7854231501637063\n",
      "Split 2 Error: 2.2985158581326637\n",
      "Months[ 1 6 ]: 3.9218508099506315\n",
      "Split 1 Error: 1.6965569364248947\n",
      "Split 2 Error: 2.2252938735257373\n",
      "Months[ 2 7 ]: 3.8698095044168452\n",
      "Split 1 Error: 1.6856140051749715\n",
      "Split 2 Error: 2.184195499241873\n",
      "Months[ 3 8 ]: 4.482366806023977\n",
      "Split 1 Error: 1.732054905444161\n",
      "Split 2 Error: 2.750311900579816\n",
      "Months[ 4 9 ]: 4.3874623252632805\n",
      "Split 1 Error: 1.7283400151377886\n",
      "Split 2 Error: 2.6591223101254933\n",
      "Months[ 5 10 ]: 4.269637020464691\n",
      "Split 1 Error: 2.550006871695819\n",
      "Split 2 Error: 1.719630148768872\n",
      "Months[ 6 11 ]: 4.083939008296371\n",
      "Split 1 Error: 2.2985158581326637\n",
      "Split 2 Error: 1.7854231501637063\n",
      "Execution Time: 16.99346089363098\n"
     ]
    }
   ],
   "source": [
    "from sklearn.model_selection import KFold\n",
    "from sklearn.linear_model import LinearRegression\n",
    "from time import time\n",
    "\n",
    "monthScores = {}\n",
    "startTime = time()\n",
    "for month in range(7):\n",
    "    dfTrain = pd.DataFrame()\n",
    "    for i in range(month,month+6):\n",
    "        dfTrain = pd.concat([dfTrain, train_sampled[allBandsByMonth[i]]], axis=1)\n",
    "#     print('\\n',month,month+5)\n",
    "    dfTrain2 = pd.DataFrame()\n",
    "    if month > 0: # need to get 'left' months\n",
    "        for i in range(0,month):\n",
    "            dfTrain2 = pd.concat([dfTrain2, train_sampled[allBandsByMonth[i]]], axis=1)\n",
    "#         print(\"GET LEFT MONTHS:\",0,\":\",month-1)\n",
    "    if month+5 < 11: # need to get 'left' months\n",
    "        for i in range(month+6,12):\n",
    "            dfTrain2 = pd.concat([dfTrain2, train_sampled[allBandsByMonth[i]]], axis=1)\n",
    "#         print(\"GET RIGHT MONTHS\",month+6,\":\",11)\n",
    "        \n",
    "#     dfTrain = pd.DataFrame(train_data)\n",
    "#     dfTrain = pd.DataFrame([train_sampled[m]] for m in monthArr)\n",
    "#     print(dfTrain.head(),end='\\n\\n')\n",
    "#     dfTrain = pd.DataFrame(train_sampled[band_names[month:month+5]])\n",
    "#     print(month,month+5)\n",
    "    \n",
    "#     train_bands = allBandsByMonth[month]\n",
    "#     dfTrain = pd.DataFrame(train_sampled[train_bands])\n",
    "\n",
    "    \n",
    "    for colName in dfTrain.columns:\n",
    "        if len(list(dfTrain[colName].unique())) < 3:\n",
    "            dfTrain.drop(colName, axis=1, inplace=True)\n",
    "    for colName in dfTrain2.columns:\n",
    "        if len(list(dfTrain2[colName].unique())) < 3:\n",
    "            dfTrain2.drop(colName, axis=1, inplace=True)\n",
    "            \n",
    "    # Add in the field ID and yield\n",
    "    dfTrain['Field_ID'] = train['Field_ID'].values\n",
    "    dfTrain['Yield'] = train['Yield'].values\n",
    "    dfTrain2['Field_ID'] = train['Field_ID'].values\n",
    "    dfTrain2['Yield'] = train['Yield'].values\n",
    "    \n",
    "    X, y  = np.array(dfTrain[dfTrain.columns[:-2]]), np.array(dfTrain['Yield'])\n",
    "    X2, y2  = np.array(dfTrain2[dfTrain2.columns[:-2]]), np.array(dfTrain2['Yield'])\n",
    "    \n",
    "    model = LinearRegression()\n",
    "    model2 = LinearRegression()\n",
    "    \n",
    "    kf = KFold(n_splits=num_Folds)\n",
    "    \n",
    "    kResults = []\n",
    "    split1Error = []\n",
    "    split2Error = []\n",
    "    for train_index, test_index in kf.split(X):\n",
    "        X_train, X_test = X[train_index], X[test_index]\n",
    "        y_train, y_test = y[train_index], y[test_index]\n",
    "#         model.fit(X_train, y_train)\n",
    "        X_train2, X_test2 = X2[train_index], X2[test_index]\n",
    "        y_train2, y_test2 = y2[train_index], y2[test_index]\n",
    "        model.fit(X_train, y_train)\n",
    "        model2.fit(X_train2, y_train2)\n",
    "        kResults.append(mean_squared_error(y_test, model.predict(X_test), squared=False)\n",
    "                       +mean_squared_error(y_test2, model2.predict(X_test2), squared=False))\n",
    "        split1Error.append(mean_squared_error(y_test, model.predict(X_test), squared=False))\n",
    "        split2Error.append(mean_squared_error(y_test2, model2.predict(X_test2), squared=False))\n",
    "    \n",
    "    monthScores[(month,month+5)] = np.mean(kResults)\n",
    "    print(\"Months[\",month,month+5,\"]:\",np.mean(kResults))\n",
    "    print(\"Split 1 Error:\",np.mean(split1Error))\n",
    "    print(\"Split 2 Error:\",np.mean(split2Error))\n",
    "endTime = time()\n",
    "print(\"Execution Time:\",endTime-startTime)"
   ]
  },
  {
   "cell_type": "code",
   "execution_count": 80,
   "metadata": {},
   "outputs": [
    {
     "name": "stdout",
     "output_type": "stream",
     "text": [
      "Months[ 0 4 ]: 4.009859251018382\n",
      "Split 1 Error: 1.703262429199731\n",
      "Split 2 Error: 2.3065968218186517\n",
      "Months[ 1 5 ]: 4.361080482579399\n",
      "Split 1 Error: 1.694907547882843\n",
      "Split 2 Error: 2.6661729346965557\n",
      "Months[ 2 6 ]: 3.8433767365818516\n",
      "Split 1 Error: 1.7230581270767409\n",
      "Split 2 Error: 2.1203186095051114\n",
      "Months[ 3 7 ]: 3.855816203395013\n",
      "Split 1 Error: 1.6675371285137353\n",
      "Split 2 Error: 2.1882790748812786\n",
      "Months[ 4 8 ]: 4.38203729916547\n",
      "Split 1 Error: 1.7028112647453546\n",
      "Split 2 Error: 2.679226034420115\n",
      "Months[ 5 9 ]: 4.305519778306021\n",
      "Split 1 Error: 1.7053144019058213\n",
      "Split 2 Error: 2.6002053764001998\n",
      "Months[ 6 10 ]: 4.340016946716162\n",
      "Split 1 Error: 2.5476682940356716\n",
      "Split 2 Error: 1.792348652680491\n",
      "Months[ 7 11 ]: 3.6932804778908497\n",
      "Split 1 Error: 1.989103637516821\n",
      "Split 2 Error: 1.7041768403740292\n",
      "Execution Time: 15.44039511680603\n"
     ]
    }
   ],
   "source": [
    "monthScores = {}\n",
    "startTime = time()\n",
    "for month in range(8):\n",
    "    dfTrain = pd.DataFrame()\n",
    "    for i in range(month,month+5):\n",
    "        dfTrain = pd.concat([dfTrain, train_sampled[allBandsByMonth[i]]], axis=1)\n",
    "    dfTrain2 = pd.DataFrame()\n",
    "    if month > 0: # need to get 'left' months\n",
    "        for i in range(0,month):\n",
    "            dfTrain2 = pd.concat([dfTrain2, train_sampled[allBandsByMonth[i]]], axis=1)\n",
    "#         print(\"GET LEFT MONTHS:\",0,\":\",month-1)\n",
    "    if month+4 < 11: # need to get 'left' months\n",
    "        for i in range(month+5,12):\n",
    "            dfTrain2 = pd.concat([dfTrain2, train_sampled[allBandsByMonth[i]]], axis=1)\n",
    "#         print(\"GET RIGHT MONTHS\",month+6,\":\",11)\n",
    "\n",
    "    \n",
    "    for colName in dfTrain.columns:\n",
    "        if len(list(dfTrain[colName].unique())) < 3:\n",
    "            dfTrain.drop(colName, axis=1, inplace=True)\n",
    "    for colName in dfTrain2.columns:\n",
    "        if len(list(dfTrain2[colName].unique())) < 3:\n",
    "            dfTrain2.drop(colName, axis=1, inplace=True)\n",
    "            \n",
    "    # Add in the field ID and yield\n",
    "    dfTrain['Field_ID'] = train['Field_ID'].values\n",
    "    dfTrain['Yield'] = train['Yield'].values\n",
    "    dfTrain2['Field_ID'] = train['Field_ID'].values\n",
    "    dfTrain2['Yield'] = train['Yield'].values\n",
    "    \n",
    "    X, y  = np.array(dfTrain[dfTrain.columns[:-2]]), np.array(dfTrain['Yield'])\n",
    "    X2, y2  = np.array(dfTrain2[dfTrain2.columns[:-2]]), np.array(dfTrain2['Yield'])\n",
    "    \n",
    "    model = LinearRegression()\n",
    "    model2 = LinearRegression()\n",
    "    \n",
    "    kf = KFold(n_splits=num_Folds)\n",
    "    \n",
    "    kResults = []\n",
    "    split1Error = []\n",
    "    split2Error = []\n",
    "    for train_index, test_index in kf.split(X):\n",
    "        X_train, X_test = X[train_index], X[test_index]\n",
    "        y_train, y_test = y[train_index], y[test_index]\n",
    "        model.fit(X_train, y_train)\n",
    "        X_train2, X_test2 = X2[train_index], X2[test_index]\n",
    "        y_train2, y_test2 = y2[train_index], y2[test_index]\n",
    "#         model.fit(X_train, y_train)\n",
    "        model2.fit(X_train2, y_train2)\n",
    "        kResults.append(mean_squared_error(y_test, model.predict(X_test), squared=False)\n",
    "                       +mean_squared_error(y_test2, model2.predict(X_test2), squared=False))\n",
    "        split1Error.append(mean_squared_error(y_test, model.predict(X_test), squared=False))\n",
    "        split2Error.append(mean_squared_error(y_test2, model2.predict(X_test2), squared=False))\n",
    "        \n",
    "    monthScores[(month,month+4)] = np.mean(kResults)\n",
    "    print(\"Months[\",month,month+4,\"]:\",np.mean(kResults))\n",
    "    print(\"Split 1 Error:\",np.mean(split1Error))\n",
    "    print(\"Split 2 Error:\",np.mean(split2Error))\n",
    "endTime = time()\n",
    "print(\"Execution Time:\",endTime-startTime)"
   ]
  },
  {
   "cell_type": "code",
   "execution_count": 74,
   "metadata": {},
   "outputs": [
    {
     "name": "stdout",
     "output_type": "stream",
     "text": [
      "Months[ 0 3 ]: 4.750850377553844\n",
      "Months[ 1 4 ]: 4.189353207524251\n",
      "Months[ 2 5 ]: 4.104241523388611\n",
      "Months[ 3 6 ]: 4.104021573223631\n",
      "Months[ 4 7 ]: 4.052827439141295\n",
      "Months[ 5 8 ]: 4.282523379352267\n",
      "Months[ 6 9 ]: 4.414704489576314\n",
      "Months[ 7 10 ]: 4.091334375621192\n",
      "Months[ 8 11 ]: 3.8356733501918874\n",
      "Execution Time: 21.06968402862549\n"
     ]
    }
   ],
   "source": [
    "monthScores = {}\n",
    "startTime = time()\n",
    "for month in range(9):\n",
    "    dfTrain = pd.DataFrame()\n",
    "    for i in range(month,month+4):\n",
    "        dfTrain = pd.concat([dfTrain, train_sampled[allBandsByMonth[i]]], axis=1)\n",
    "    dfTrain2 = pd.DataFrame()\n",
    "    if month > 0: # need to get 'left' months\n",
    "        for i in range(0,month):\n",
    "            dfTrain2 = pd.concat([dfTrain2, train_sampled[allBandsByMonth[i]]], axis=1)\n",
    "#         print(\"GET LEFT MONTHS:\",0,\":\",month-1)\n",
    "    if month+3 < 11: # need to get 'left' months\n",
    "        for i in range(month+4,12):\n",
    "            dfTrain2 = pd.concat([dfTrain2, train_sampled[allBandsByMonth[i]]], axis=1)\n",
    "#         print(\"GET RIGHT MONTHS\",month+6,\":\",11)\n",
    "\n",
    "    \n",
    "    for colName in dfTrain.columns:\n",
    "        if len(list(dfTrain[colName].unique())) < 3:\n",
    "            dfTrain.drop(colName, axis=1, inplace=True)\n",
    "    for colName in dfTrain2.columns:\n",
    "        if len(list(dfTrain2[colName].unique())) < 3:\n",
    "            dfTrain2.drop(colName, axis=1, inplace=True)\n",
    "            \n",
    "    # Add in the field ID and yield\n",
    "    dfTrain['Field_ID'] = train['Field_ID'].values\n",
    "    dfTrain['Yield'] = train['Yield'].values\n",
    "    dfTrain2['Field_ID'] = train['Field_ID'].values\n",
    "    dfTrain2['Yield'] = train['Yield'].values\n",
    "    \n",
    "    X, y  = np.array(dfTrain[dfTrain.columns[:-2]]), np.array(dfTrain['Yield'])\n",
    "    X2, y2  = np.array(dfTrain2[dfTrain2.columns[:-2]]), np.array(dfTrain2['Yield'])\n",
    "    \n",
    "    model = LinearRegression()\n",
    "    model2 = LinearRegression()\n",
    "    \n",
    "    kf = KFold(n_splits=num_Folds)\n",
    "    \n",
    "    kResults = []\n",
    "    for train_index, test_index in kf.split(X):\n",
    "        X_train, X_test = X[train_index], X[test_index]\n",
    "        y_train, y_test = y[train_index], y[test_index]\n",
    "        model.fit(X_train, y_train)\n",
    "        X_train2, X_test2 = X2[train_index], X2[test_index]\n",
    "        y_train2, y_test2 = y2[train_index], y2[test_index]\n",
    "#         model.fit(X_train, y_train)\n",
    "        model2.fit(X_train2, y_train2)\n",
    "        kResults.append(mean_squared_error(y_test, model.predict(X_test), squared=False)\n",
    "                       +mean_squared_error(y_test2, model2.predict(X_test2), squared=False))\n",
    "    \n",
    "    monthScores[(month,month+3)] = np.mean(kResults)\n",
    "    print(\"Months[\",month,month+3,\"]:\",np.mean(kResults))\n",
    "endTime = time()\n",
    "print(\"Execution Time:\",endTime-startTime)"
   ]
  },
  {
   "cell_type": "markdown",
   "metadata": {},
   "source": [
    "**K-Fold cross validation for each Band**"
   ]
  },
  {
   "cell_type": "code",
   "execution_count": 94,
   "metadata": {},
   "outputs": [],
   "source": [
    "allMonthsByBand = {}\n",
    "for i in range(30):\n",
    "    monthTemp = []\n",
    "    for k in range(12):\n",
    "        bN = str(k)+\"_\"+band_names_noMonths[i] \n",
    "        monthTemp.append(bN)\n",
    "    allMonthsByBand[band_names_noMonths[i]] = monthTemp\n",
    "# print(allMonthsByBand)"
   ]
  },
  {
   "cell_type": "code",
   "execution_count": 95,
   "metadata": {},
   "outputs": [
    {
     "name": "stdout",
     "output_type": "stream",
     "text": [
      "S2_B1 : 1.632008336594236\n",
      "S2_B2 : 1.6858473437636152\n",
      "S2_B3 : 1.7023999627624185\n",
      "S2_B4 : 1.6442071339949635\n",
      "S2_B5 : 1.654873376025772\n",
      "S2_B6 : 1.6787563587707002\n",
      "S2_B7 : 1.6670549370759506\n",
      "S2_B8 : 1.6784263345531318\n",
      "S2_B8A : 1.6704226945135676\n",
      "S2_B9 : 1.6579383113929567\n",
      "S2_B10 : 1.6435947458855638\n",
      "S2_B11 : 1.6523972381460794\n",
      "S2_B12 : 1.6585639628558682\n",
      "S2_QA60 : 1.75441694234968\n",
      "CLIM_aet : 1.6328580446788006\n",
      "CLIM_def : 1.6558813199434952\n",
      "CLIM_pdsi : 1.7538522524924414\n",
      "CLIM_pet : 1.643766160594346\n",
      "CLIM_pr : 1.6275203568994931\n",
      "CLIM_ro : 1.665717868825849\n",
      "CLIM_soil : 1.6945788147338738\n",
      "CLIM_srad : 1.6724398307614123\n",
      "CLIM_tmmn : 1.693463031531278\n",
      "CLIM_tmmx : 1.6414021110647585\n",
      "CLIM_vap : 1.6851837488881252\n",
      "CLIM_vpd : 1.6506724875714465\n",
      "CLIM_vs : 1.6571295420738295\n",
      "Low Quality Bands: ['S2_QA10', 'S2_QA20', 'CLIM_swe']\n",
      "Execution Time: 156.41029691696167\n"
     ]
    }
   ],
   "source": [
    "bandScores = {}\n",
    "worthlessBands = []\n",
    "\n",
    "startTime = time()\n",
    "for band in allMonthsByBand.keys():\n",
    "    train_bands = allMonthsByBand[band]\n",
    "    dfTrain = pd.DataFrame(train_sampled[train_bands])\n",
    "\n",
    "    for colName in dfTrain.columns:\n",
    "        if len(list(dfTrain[colName].unique())) < 3:\n",
    "            dfTrain.drop(colName, axis=1, inplace=True)\n",
    "  \n",
    "    if dfTrain.shape[1] > 0:\n",
    "        # Add in the field ID and yield\n",
    "        dfTrain['Field_ID'] = train['Field_ID'].values\n",
    "        dfTrain['Yield'] = train['Yield'].values\n",
    "\n",
    "        X, y  = np.array(dfTrain[dfTrain.columns[:-2]]), np.array(dfTrain['Yield'])\n",
    "\n",
    "        rfModel = RandomForestRegressor()\n",
    "\n",
    "        kf = KFold(n_splits=num_Folds)\n",
    "        kResults = []\n",
    "        \n",
    "        for train_index, test_index in kf.split(X):\n",
    "            X_train, X_test = X[train_index], X[test_index]\n",
    "            y_train, y_test = y[train_index], y[test_index]\n",
    "            rfModel.fit(X_train, y_train)\n",
    "            kResults.append(mean_squared_error(y_test, rfModel.predict(X_test), squared=False))\n",
    "        bandScores[band] = np.mean(kResults)\n",
    "        print(band,\":\",np.mean(kResults))\n",
    "        \n",
    "    else:\n",
    "        worthlessBands.append(band)\n",
    "print(\"Low Quality Bands:\",worthlessBands)\n",
    "endTime = time()\n",
    "print(\"Execution Time:\",endTime-startTime)"
   ]
  },
  {
   "cell_type": "markdown",
   "metadata": {},
   "source": [
    "## PCA that may or may not be helpful\n",
    "\n",
    "**PCA Class implementation**"
   ]
  },
  {
   "cell_type": "code",
   "execution_count": null,
   "metadata": {},
   "outputs": [],
   "source": [
    "class PCA:\n",
    "    def __init__(self, target_explained_variance=None):\n",
    "        \"\"\"\n",
    "        explained_variance: float, the target level of explained variance\n",
    "        \"\"\"\n",
    "        self.target_explained_variance = target_explained_variance\n",
    "        self.feature_size = -1\n",
    "        self.matrix_w = []\n",
    "\n",
    "    def standardize(self, X):\n",
    "        \"\"\"\n",
    "        standardize features using standard scaler\n",
    "        :param m X n: features data\n",
    "        :return: standardized features\n",
    "        \"\"\"\n",
    "        # YOUR CODE HERE\n",
    "        X = (X - np.mean(X, axis=0)) / np.std(X, axis=0)\n",
    "        return X\n",
    "#         raise NotImplementedError()\n",
    "\n",
    "    def compute_mean_vector(self, X_std):\n",
    "        \"\"\"\n",
    "        compute mean vector\n",
    "        :param X_std: data\n",
    "        :return n X 1 matrix: mean vector\n",
    "        \"\"\"\n",
    "        # YOUR CODE HERE\n",
    "        return np.mean(X_std, axis=0)\n",
    "#         raise NotImplementedError()\n",
    "\n",
    "    def compute_cov(self, X_std, mean_vec):\n",
    "        \"\"\"\n",
    "        Covariance using mean, (don't use any numpy.cov)\n",
    "        :param X_std:\n",
    "        :param mean_vec:\n",
    "        :return n X n matrix: covariance matrix\n",
    "        \"\"\"\n",
    "        # YOUR CODE HERE\n",
    "        covMat = (X_std-mean_vec).T.dot((X_std-mean_vec))/(X_std.shape[0]-1)\n",
    "        return covMat\n",
    "#         raise NotImplementedError()\n",
    "\n",
    "    def compute_eigen_vector(self, cov_mat):\n",
    "        \"\"\"\n",
    "        Eigenvector and eigen values using numpy\n",
    "        :param cov_mat:\n",
    "        :return: (eigen_vector,eigen_values)\n",
    "        \"\"\"\n",
    "        # YOUR CODE HERE\n",
    "        eig_vals,eig_vecs = np.linalg.eig(cov_mat)\n",
    "        return (eig_vecs,eig_vals)\n",
    "#         raise NotImplementedError()\n",
    "\n",
    "    def compute_explained_variance(self, eigen_vals):\n",
    "        \"\"\"\n",
    "        sort eigen values and compute explained variance.\n",
    "        explained variance informs the amount of information (variance)\n",
    "        can be attributed to each of  the principal components.\n",
    "        :param eigen_vals:\n",
    "        :return: explained variance.\n",
    "        \"\"\"\n",
    "        # YOUR CODE HERE\n",
    "        return eigen_vals/np.sum(eigen_vals)\n",
    "#         raise NotImplementedError()\n",
    "\n",
    "    def cumulative_sum(self, var_exp):\n",
    "        \"\"\"\n",
    "        return cumulative sum of explained variance.\n",
    "        :param var_exp: explained variance\n",
    "        :return: cumulative explained variance\n",
    "        \"\"\"\n",
    "        return np.cumsum(var_exp)\n",
    "\n",
    "    def compute_weight_matrix(self, eig_pairs, var_exp):\n",
    "        \"\"\"\n",
    "        compute weight matrix of top principal components conditioned on target\n",
    "        explained variance.\n",
    "        Hint : \n",
    "            use cumulative explained variance and target_explained_variance \n",
    "            to find top components\n",
    "        \n",
    "        :param eig_pairs: list of tuples containing eigenvector and eigen values\n",
    "        :param var_exp: *sorted* explained variance proportions, by features\n",
    "        :return: weight matrix\n",
    "        \"\"\"\n",
    "        # YOUR CODE HERE\n",
    "        cumVar = self.cumulative_sum(var_exp)\n",
    "        index = 0\n",
    "        while cumVar[index] < self.target_explained_variance:\n",
    "            index+=1\n",
    "        weight_mat = np.array([vec for vec in eig_pairs[0][:index]])\n",
    "        return weight_mat\n",
    "#         raise NotImplementedError()\n",
    "\n",
    "    def transform_data(self, X_std, matrix_w):\n",
    "        \"\"\"\n",
    "        transform data to subspace using weight matrix\n",
    "        :param X_std: standardized data\n",
    "        :param matrix_w: weight matrix\n",
    "        :return: data in the subspace\n",
    "        \"\"\"\n",
    "        return X_std.dot(matrix_w)\n",
    "    \n",
    "\n",
    "    def fit(self, X):\n",
    "        \"\"\"\n",
    "        entry point to the transform data to k dimensions\n",
    "        standardize and compute weight matrix to transform data.\n",
    "        :param   m X n dimension: train samples\n",
    "        :return  m X k dimension: subspace data.\n",
    "        \"\"\"\n",
    "    \n",
    "        self.feature_size = X.shape[1]\n",
    "        \n",
    "        # YOUR CODE HERE\n",
    "#         raise NotImplementedError()\n",
    "        X_std = self.standardize(X)\n",
    "\n",
    "        mean_vec = self.compute_mean_vector(X_std)\n",
    "\n",
    "        cov_mat = self.compute_cov(X_std, mean_vec) \n",
    "\n",
    "        eig_pairs = self.compute_eigen_vector(cov_mat)\n",
    "\n",
    "        var_exp = self.compute_explained_variance(eig_pairs[1])\n",
    "\n",
    "        self.matrix_w = self.compute_weight_matrix(eig_pairs, var_exp).T\n",
    "        return self.transform_data(X_std=X_std, matrix_w=self.matrix_w)"
   ]
  },
  {
   "cell_type": "markdown",
   "metadata": {},
   "source": [
    "**PCA on all bands, all months**"
   ]
  },
  {
   "cell_type": "code",
   "execution_count": null,
   "metadata": {},
   "outputs": [],
   "source": [
    "# Make a new DF with the sampled values from each field \n",
    "train_sampled = pd.DataFrame([process_im_all(fid) for fid in train['Field_ID'].values])\n",
    "\n",
    "for colName in train_sampled.columns:\n",
    "    if len(list(train_sampled[colName].unique())) < 3:\n",
    "        train_sampled.drop(colName, axis=1, inplace=True)\n",
    "        \n",
    "print(\"here\")\n",
    "\n",
    "# Add in the field ID and yield\n",
    "train_sampled['Field_ID'] = train['Field_ID'].values\n",
    "train_sampled['Yield'] = train['Yield'].values\n",
    "\n",
    "# Split the data\n",
    "X, y  = train_sampled[train_sampled.columns[:-2]], train_sampled['Yield']\n",
    "X_train, X_test, y_train, y_test = train_test_split(X, y)\n",
    "\n",
    "pcaObj = PCA(target_explained_variance=0.99)\n",
    "X_train_updated = pcaObj.fit(X_train)\n",
    "\n",
    "print(\"PCA DONE\")\n",
    "\n",
    "X_t, X_test, y_t, y_test = train_test_split(X_train_updated, y_train, test_size=0.05, random_state = 5622)\n",
    "\n",
    "# Fit the model\n",
    "gbModel = GradientBoostingRegressor(random_state=0)\n",
    "rfModel = RandomForestRegressor()\n",
    "bagging = BaggingRegressor()\n",
    "adaMod = AdaBoostRegressor()\n",
    "vote = VotingRegressor(estimators=[('gb', gbModel), ('rf', rfModel), ('br', bagging), ('ad',adaMod)])\n",
    "\n",
    "rfModel.fit(X_t, y_t)\n",
    "gbModel.fit(X_t, y_t)\n",
    "bagging.fit(X_t, y_t)\n",
    "adaMod.fit(X_t,y_t)\n",
    "vote.fit(X_t, y_t)\n",
    "\n",
    "\n",
    "print(\"Random Forest:\",mean_squared_error(y_test, rfModel.predict(X_test), squared=False))\n",
    "print(\"GradBoost:\",mean_squared_error(y_test, gbModel.predict(X_test), squared=False))\n",
    "print(\"Bagging:\",mean_squared_error(y_test, bagging.predict(X_test), squared=False))\n",
    "print(\"AdaBoost:\",mean_squared_error(y_test, adaMod.predict(X_test), squared=False))\n",
    "print(\"Vote:\",mean_squared_error(y_test, vote.predict(X_test), squared=False))\n",
    "\n",
    "# Score with RMSE\n",
    "# print('Score:', mean_squared_error(y_test, model.predict(X_test), squared=False))"
   ]
  },
  {
   "cell_type": "markdown",
   "metadata": {},
   "source": [
    "**Building dataframe from PCA on each month**"
   ]
  },
  {
   "cell_type": "code",
   "execution_count": null,
   "metadata": {},
   "outputs": [],
   "source": [
    "# Make a new DF with the sampled values from each field \n",
    "# train_sampled = pd.DataFrame([process_im(fid) for fid in train['Field_ID'].values])\n",
    "\n",
    "# Add in the field ID and yield\n",
    "# train_sampled['Field_ID'] = train['Field_ID'].values\n",
    "# train_sampled['Yield'] = train['Yield'].values\n",
    "\n",
    "# # Make a new DF with the sampled values from each field \n",
    "# month = 3\n",
    "allDFs = []\n",
    "dfObj = pd.DataFrame()\n",
    "for month in range(12):\n",
    "    train_sampled = pd.DataFrame([process_im_months(fid, month) for fid in train['Field_ID'].values])\n",
    "    for colName in train_sampled.columns:\n",
    "        if len(list(train_sampled[colName].unique())) < 3:\n",
    "            train_sampled.drop(colName, axis=1, inplace=True)\n",
    "    # Add in the field ID and yield\n",
    "    train_sampled['Field_ID'] = train['Field_ID'].values\n",
    "    train_sampled['Yield'] = train['Yield'].values\n",
    "\n",
    "    X, y  = train_sampled[train_sampled.columns[:-2]], train_sampled['Yield']\n",
    "    X_train, X_test, y_train, y_test = train_test_split(X, y)\n",
    "    \n",
    "    pcaObj = PCA(target_explained_variance=0.99)\n",
    "    X_train_updated = pcaObj.fit(X_train)\n",
    "    dfObj = pd.concat([dfObj, X_train_updated], axis=1)\n",
    "    print(X_train_updated.shape)\n",
    "    allDFs.append(X_train_updated)\n",
    "    \n",
    "dfObj = pd.DataFrame(allDFs[0]) \n",
    "for i in range(1,len(allDFs)):\n",
    "    dfObj1 = pd.DataFrame(allDFs[i])\n",
    "    dfObj.reset_index(drop=True, inplace=True)\n",
    "    dfObj1.reset_index(drop=True, inplace=True)\n",
    "    dfObj = pd.concat([dfObj, dfObj1], axis=1)\n",
    "dfObj.shape\n",
    "\n",
    "lab = np.arange(dfObj.shape[1])\n",
    "dfObj.columns = lab "
   ]
  },
  {
   "cell_type": "markdown",
   "metadata": {},
   "source": [
    "**Model comparison of PCA on each month**"
   ]
  },
  {
   "cell_type": "code",
   "execution_count": 86,
   "metadata": {},
   "outputs": [
    {
     "name": "stdout",
     "output_type": "stream",
     "text": [
      "1.5132203203655712\n",
      "1.5650442725595533\n",
      "1.6062695369406133\n",
      "1.5866064375780227\n",
      "1.5294272415322694\n"
     ]
    }
   ],
   "source": [
    "from sklearn.ensemble import RandomForestRegressor, AdaBoostRegressor, GradientBoostingRegressor, VotingRegressor, BaggingRegressor\n",
    "\n",
    "X_t, X_test, y_t, y_test = train_test_split(dfObj, y_train, test_size=0.2, random_state = 5622)\n",
    "\n",
    "gbModel = GradientBoostingRegressor(random_state=0)\n",
    "rfModel = RandomForestRegressor()\n",
    "bagging = BaggingRegressor()\n",
    "adaMod = AdaBoostRegressor()\n",
    "vote = VotingRegressor(estimators=[('gb', gbModel), ('rf', rfModel), ('br', bagging), ('ad',adaMod)])\n",
    "\n",
    "rfModel.fit(X_t, y_t)\n",
    "gbModel.fit(X_t, y_t)\n",
    "bagging.fit(X_t, y_t)\n",
    "adaMod.fit(X_t,y_t)\n",
    "vote.fit(X_t, y_t)\n",
    "\n",
    "\n",
    "print(mean_squared_error(y_test, rfModel.predict(X_test), squared=False))\n",
    "print(mean_squared_error(y_test, gbModel.predict(X_test), squared=False))\n",
    "print(mean_squared_error(y_test, bagging.predict(X_test), squared=False))\n",
    "print(mean_squared_error(y_test, adaMod.predict(X_test), squared=False))\n",
    "print(mean_squared_error(y_test, vote.predict(X_test), squared=False))"
   ]
  },
  {
   "cell_type": "markdown",
   "metadata": {},
   "source": [
    "**Plots comparing models**"
   ]
  },
  {
   "cell_type": "code",
   "execution_count": 34,
   "metadata": {},
   "outputs": [
    {
     "data": {
      "image/png": "[encoded data removed]",
      "text/plain": [
       "<Figure size 1440x360 with 3 Axes>"
      ]
     },
     "metadata": {
      "needs_background": "light"
     },
     "output_type": "display_data"
    }
   ],
   "source": [
    "# Make plots\n",
    "fig, ax = plt.subplots(figsize=(20,5),ncols=3)\n",
    "ax[0].plot(target_explained_variances,accuraciesRF)\n",
    "ax[0].set_title(\"MSE vs Target Explained Variance: Random Forest\")\n",
    "ax[0].set_xlabel(\"Target Explained Variance\")\n",
    "ax[0].set_ylabel(\"MSE\")\n",
    "\n",
    "ax[1].plot(target_explained_variances,accuraciesGB)\n",
    "ax[1].set_title(\"MSE vs Target Explained Variance: GradBoost\")\n",
    "ax[1].set_xlabel(\"Target Explained Variance\")\n",
    "ax[1].set_ylabel(\"MSE\")\n",
    "\n",
    "ax[2].plot(target_explained_variances,numbers_of_components)\n",
    "ax[2].set_title(\"Number of Components vs Target Explained Variance\")\n",
    "ax[2].set_xlabel(\"Target Explained Variance\")\n",
    "ax[2].set_ylabel(\"# of Components\")\n",
    "\n",
    "plt.show()\n",
    "# raise NotImplementedError()"
   ]
  },
  {
   "cell_type": "code",
   "execution_count": null,
   "metadata": {},
   "outputs": [],
   "source": []
  }
 ],
 "metadata": {
  "colab": {
   "name": "Starter Notebook - CGIAR Yield Estimation.ipynb",
   "provenance": [],
   "toc_visible": true
  },
  "kernelspec": {
   "display_name": "Python 3",
   "language": "python",
   "name": "python3"
  },
  "language_info": {
   "codemirror_mode": {
    "name": "ipython",
    "version": 3
   },
   "file_extension": ".py",
   "mimetype": "text/x-python",
   "name": "python",
   "nbconvert_exporter": "python",
   "pygments_lexer": "ipython3",
   "version": "3.7.4"
  }
 },
 "nbformat": 4,
 "nbformat_minor": 1
}
